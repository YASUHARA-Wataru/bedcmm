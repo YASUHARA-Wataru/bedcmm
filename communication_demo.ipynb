{
 "cells": [
  {
   "cell_type": "markdown",
   "id": "2c464256",
   "metadata": {},
   "source": [
    "# Communication demo"
   ]
  },
  {
   "cell_type": "markdown",
   "id": "2fb5faef",
   "metadata": {},
   "source": [
    "## Load keys"
   ]
  },
  {
   "cell_type": "code",
   "execution_count": 2,
   "id": "e3aed95f",
   "metadata": {},
   "outputs": [
    {
     "name": "stdout",
     "output_type": "stream",
     "text": [
      "key1:[ True  True False False  True False False False]\n",
      "key2:[ True False  True False  True False False False]\n",
      "key3:[ True False False  True  True False False False]\n"
     ]
    }
   ],
   "source": [
    "import pandas as pd\n",
    "import numpy as np\n",
    "\n",
    "# numberのkeyからboolの配列に変換する関数\n",
    "def num2bool_key(num,key_len):\n",
    "    key = np.zeros(key_len,dtype=bool)\n",
    "    for i in range(key_len):\n",
    "        np.mod(num,2) == 0\n",
    "        if np.mod(num,2) == 0:\n",
    "            key[i] = False\n",
    "        else:\n",
    "            key[i] = True\n",
    "        num = num//2\n",
    "\n",
    "    return key\n",
    "\n",
    "\n",
    "key_df = pd.read_csv('./communication_key_info/pair3_length8.csv')\n",
    "use_num_of_key = 16\n",
    "key1_num = key_df.loc[use_num_of_key,['base1']].values\n",
    "key2_num = key_df.loc[use_num_of_key,['base2']].values\n",
    "key3_num = key_df.loc[use_num_of_key,['base3']].values\n",
    "\n",
    "key1 = num2bool_key(key1_num,8)\n",
    "key2 = num2bool_key(key2_num,8)\n",
    "key3 = num2bool_key(key3_num,8)\n",
    "\n",
    "print(f'key1:{key1}')\n",
    "print(f'key2:{key2}')\n",
    "print(f'key3:{key3}')"
   ]
  },
  {
   "cell_type": "markdown",
   "id": "b035dd54",
   "metadata": {},
   "source": [
    "## Make send data"
   ]
  },
  {
   "cell_type": "code",
   "execution_count": 3,
   "id": "a3e3ed02",
   "metadata": {},
   "outputs": [],
   "source": [
    "send_data1 = np.array([1,0,0,1,1,1,1],dtype=bool)\n",
    "send_data2 = np.array([0,1,0,1,1,0,1],dtype=bool)\n",
    "send_data3 = np.array([1,0,1,1,1,0,1],dtype=bool)"
   ]
  },
  {
   "cell_type": "markdown",
   "id": "b1df7322",
   "metadata": {},
   "source": [
    "## Modulate data"
   ]
  },
  {
   "cell_type": "code",
   "execution_count": 4,
   "id": "c7230da7",
   "metadata": {},
   "outputs": [
    {
     "name": "stdout",
     "output_type": "stream",
     "text": [
      "modulated data1:[ True  True False False  True False False False False False False False\n",
      " False False False False False False False False False False False False\n",
      "  True  True False False  True False False False  True  True False False\n",
      "  True False False False  True  True False False  True False False False\n",
      "  True  True False False  True False False False]\n",
      "modulated data2:[False False False False False False False False  True False  True False\n",
      "  True False False False False False False False False False False False\n",
      "  True False  True False  True False False False  True False  True False\n",
      "  True False False False False False False False False False False False\n",
      "  True False  True False  True False False False]\n",
      "modulated data3:[ True False False  True  True False False False False False False False\n",
      " False False False False  True False False  True  True False False False\n",
      "  True False False  True  True False False False  True False False  True\n",
      "  True False False False False False False False False False False False\n",
      "  True False False  True  True False False False]\n"
     ]
    }
   ],
   "source": [
    "from bedcmm.communication import *\n",
    "\n",
    "key1_mod_data = modulate(send_data1,key1)\n",
    "key2_mod_data = modulate(send_data2,key2)\n",
    "key3_mod_data = modulate(send_data3,key3)\n",
    "\n",
    "print(f'modulated data1:{key1_mod_data}')\n",
    "print(f'modulated data2:{key2_mod_data}')\n",
    "print(f'modulated data3:{key3_mod_data}')"
   ]
  },
  {
   "cell_type": "markdown",
   "id": "c4744809",
   "metadata": {},
   "source": [
    "## multiplexing data"
   ]
  },
  {
   "cell_type": "code",
   "execution_count": 5,
   "id": "4522950f",
   "metadata": {},
   "outputs": [
    {
     "name": "stdout",
     "output_type": "stream",
     "text": [
      "send signal:[ True  True False  True  True False False False  True False  True False\n",
      "  True False False False  True False False  True  True False False False\n",
      "  True  True  True  True  True False False False  True  True  True  True\n",
      "  True False False False  True  True False False  True False False False\n",
      "  True  True  True  True  True False False False]\n"
     ]
    }
   ],
   "source": [
    "all_mod_data = np.array([key1_mod_data,key2_mod_data,key3_mod_data],dtype=bool)\n",
    "send_signal = multiplexing(all_mod_data)\n",
    "\n",
    "print(f'send signal:{send_signal}')"
   ]
  },
  {
   "cell_type": "markdown",
   "id": "8b789406",
   "metadata": {},
   "source": [
    "## Demodulate Data"
   ]
  },
  {
   "cell_type": "code",
   "execution_count": 6,
   "id": "c3462aea",
   "metadata": {},
   "outputs": [
    {
     "name": "stdout",
     "output_type": "stream",
     "text": [
      "send  data1:[ True False False  True  True  True  True]\n",
      "demod data1:[ True False False  True  True  True  True]\n",
      "send  data2:[False  True False  True  True False  True]\n",
      "demod data2:[False  True False  True  True False  True]\n",
      "send  data3:[ True False  True  True  True False  True]\n",
      "demod data3:[ True False  True  True  True False  True]\n"
     ]
    }
   ],
   "source": [
    "# all pattern\n",
    "key1_demod_signal = demodulate(send_signal,key1)\n",
    "key2_demod_signal = demodulate(send_signal,key2)\n",
    "key3_demod_signal = demodulate(send_signal,key3)\n",
    "\n",
    "filt = np.ones(len(key1))\n",
    "filtered_data1 = np.convolve(key1_demod_signal,filt,mode='same')\n",
    "demod_data1 = np.array(filtered_data1[::len(key1)],dtype=bool)\n",
    "filtered_data2 = np.convolve(key2_demod_signal,filt,mode='same')\n",
    "demod_data2 = np.array(filtered_data2[::len(key1)],dtype=bool)\n",
    "filtered_data3 = np.convolve(key3_demod_signal,filt,mode='same')\n",
    "demod_data3 = np.array(filtered_data3[::len(key1)],dtype=bool)\n",
    "\n",
    "print(f'send  data1:{send_data1}')\n",
    "print(f'demod data1:{demod_data1}')\n",
    "print(f'send  data2:{send_data2}')\n",
    "print(f'demod data2:{demod_data2}')\n",
    "print(f'send  data3:{send_data3}')\n",
    "print(f'demod data3:{demod_data3}')"
   ]
  },
  {
   "cell_type": "code",
   "execution_count": 7,
   "id": "fb465e8d",
   "metadata": {},
   "outputs": [
    {
     "name": "stdout",
     "output_type": "stream",
     "text": [
      "send     data1:[ True False False  True  True  True  True]\n",
      "lo demod data1:[ True False False  True  True  True  True]\n",
      "send     data2:[False  True False  True  True False  True]\n",
      "lo demod data2:[False  True False  True  True False  True]\n",
      "send     data3:[ True False  True  True  True False  True]\n",
      "lo demod data3:[ True False  True  True  True False  True]\n"
     ]
    }
   ],
   "source": [
    "# one by one pattern\n",
    "\n",
    "l_o_esult1 = []\n",
    "l_o_esult2 = []\n",
    "l_o_esult3 = []\n",
    "\n",
    "for i in range(len(send_signal)-len(key1)+1):\n",
    "    calc_data = send_signal[i:i+len(key1)]\n",
    "    l_o_esult1.append(demodulate_logical_operations(calc_data,key1))\n",
    "    l_o_esult2.append(demodulate_logical_operations(calc_data,key2))\n",
    "    l_o_esult3.append(demodulate_logical_operations(calc_data,key3))\n",
    "\n",
    "filt = np.ones(len(key1))\n",
    "filtered_data1 = np.convolve(l_o_esult1,filt,mode='same')\n",
    "l_o_esult1 = np.array(filtered_data1[::len(key1)],dtype=bool)\n",
    "filtered_data2 = np.convolve(l_o_esult2,filt,mode='same')\n",
    "l_o_esult2 = np.array(filtered_data2[::len(key1)],dtype=bool)\n",
    "filtered_data3 = np.convolve(l_o_esult3,filt,mode='same')\n",
    "l_o_esult3 = np.array(filtered_data3[::len(key1)],dtype=bool)\n",
    "\n",
    "print(f'send     data1:{send_data1}')\n",
    "print(f'lo demod data1:{l_o_esult1}')\n",
    "print(f'send     data2:{send_data2}')\n",
    "print(f'lo demod data2:{l_o_esult2}')\n",
    "print(f'send     data3:{send_data3}')\n",
    "print(f'lo demod data3:{l_o_esult3}')\n"
   ]
  }
 ],
 "metadata": {
  "kernelspec": {
   "display_name": "base",
   "language": "python",
   "name": "python3"
  },
  "language_info": {
   "codemirror_mode": {
    "name": "ipython",
    "version": 3
   },
   "file_extension": ".py",
   "mimetype": "text/x-python",
   "name": "python",
   "nbconvert_exporter": "python",
   "pygments_lexer": "ipython3",
   "version": "3.9.13"
  }
 },
 "nbformat": 4,
 "nbformat_minor": 5
}
